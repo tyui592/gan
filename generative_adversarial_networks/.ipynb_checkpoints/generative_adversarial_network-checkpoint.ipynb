{
 "cells": [
  {
   "cell_type": "markdown",
   "metadata": {},
   "source": [
    "* unrolled approximate inference network\n",
    "* directed graphical model\n",
    "* restrcited boltzmann machine\n",
    "* unnormalized potential function\n",
    "* deep belief network\n",
    "* non-parametrix limit"
   ]
  },
  {
   "cell_type": "code",
   "execution_count": 6,
   "metadata": {},
   "outputs": [],
   "source": [
    "import torch\n",
    "import torch.nn as nn\n",
    "from torchvision import datasets, transforms"
   ]
  },
  {
   "cell_type": "code",
   "execution_count": 2,
   "metadata": {},
   "outputs": [],
   "source": [
    "params = dict()\n",
    "params['batch_size'] = 1"
   ]
  },
  {
   "cell_type": "markdown",
   "metadata": {},
   "source": [
    "##### mnist dataset loader"
   ]
  },
  {
   "cell_type": "code",
   "execution_count": 3,
   "metadata": {},
   "outputs": [],
   "source": [
    "train_mnist = datasets.MNIST(root = '/home/minseong/pytorch_dataset/', \n",
    "                       download=False, train=True, \n",
    "                       transform=transforms.Compose([ \n",
    "                           transforms.ToTensor(), \n",
    "                           transforms.Normalize((0.1307, ), (0.3081,))\n",
    "                       ]))\n",
    "test_mnist = datasets.MNIST(root = '/home/minseong/pytorch_dataset/', \n",
    "                       download=False, train=False, \n",
    "                       transform=transforms.Compose([ \n",
    "                           transforms.ToTensor(), \n",
    "                           transforms.Normalize((0.1307, ), (0.3081,))\n",
    "                       ]))"
   ]
  },
  {
   "cell_type": "code",
   "execution_count": 4,
   "metadata": {},
   "outputs": [],
   "source": [
    "train_loader = torch.utils.data.DataLoader(train_mnist, \n",
    "                                           batch_size=params['batch_size'],\n",
    "                                           shuffle=True\n",
    "                                          )\n",
    "\n",
    "train_loader = torch.utils.data.DataLoader(test_mnist, \n",
    "                                           batch_size=params['batch_size'],\n",
    "                                           shuffle=True\n",
    "                                          )"
   ]
  },
  {
   "cell_type": "markdown",
   "metadata": {},
   "source": [
    "##### network models"
   ]
  },
  {
   "cell_type": "code",
   "execution_count": 8,
   "metadata": {},
   "outputs": [],
   "source": [
    "class Generator(nn.Module):\n",
    "    def __init__(self, param):\n",
    "        super(Generator, self).__init__()\n",
    "        self.linear1 = nn.Linear(param['g_in'], param['g_h1'])\n",
    "        self.linear2 = nn.Linear(param['g_h1'], param['g_h2'])\n",
    "        self.linear3 = nn.Linear(param['g_h2'], param['g_out'])\n",
    "        \n",
    "        self.relu = nn.ReLU()\n",
    "        self.sigmoid = nn.Sigmoid()\n",
    "        \n",
    "    def forward(self, x):\n",
    "        x = self.relu(self.linear1(x))\n",
    "        x = self.relu(self.linear2(x))\n",
    "        x = self.sigmoid(self.linear3(x))\n",
    "        \n",
    "        return x\n",
    "    \n",
    "class Discriminatorr(nn.Module):\n",
    "    def __init__(self, param):\n",
    "        super(Discriminator, self).__init__()\n",
    "        self.linear1 = nn.Linear(param['d_in'], param['d_h1'])\n",
    "        self.linear2 = nn.Linear(param['d_h1'], param['d_h2'])\n",
    "        self.linear3 = nn.Linear(param['d_h2'], param['d_out'])\n",
    "        \n",
    "        self.relu = nn.ReLU()\n",
    "        self.sigmoid = nn.Sigmoid()\n",
    "        \n",
    "    def forward(self, x):\n",
    "        x = self.relu(self.linear1(x))\n",
    "        x = self.relu(self.linear2(x))\n",
    "        x = self.sigmoid(self.linear3(x))\n",
    "        \n",
    "        return x"
   ]
  },
  {
   "cell_type": "code",
   "execution_count": null,
   "metadata": {},
   "outputs": [],
   "source": []
  }
 ],
 "metadata": {
  "kernelspec": {
   "display_name": "Python 3",
   "language": "python",
   "name": "python3"
  },
  "language_info": {
   "codemirror_mode": {
    "name": "ipython",
    "version": 3
   },
   "file_extension": ".py",
   "mimetype": "text/x-python",
   "name": "python",
   "nbconvert_exporter": "python",
   "pygments_lexer": "ipython3",
   "version": "3.6.4"
  }
 },
 "nbformat": 4,
 "nbformat_minor": 2
}
